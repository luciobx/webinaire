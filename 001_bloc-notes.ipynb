{
 "cells": [
  {
   "cell_type": "markdown",
   "metadata": {},
   "source": [
    "# Premier bloc-notes dans JupyterLab "
   ]
  },
  {
   "cell_type": "code",
   "execution_count": 3,
   "metadata": {},
   "outputs": [],
   "source": [
    "a = 10"
   ]
  },
  {
   "cell_type": "markdown",
   "metadata": {},
   "source": [
    "### Par défaut la cellule est en code"
   ]
  },
  {
   "cell_type": "code",
   "execution_count": 4,
   "metadata": {
    "collapsed": true,
    "jupyter": {
     "outputs_hidden": true
    }
   },
   "outputs": [
    {
     "ename": "SyntaxError",
     "evalue": "EOL while scanning string literal (<ipython-input-4-83bcdcc5e1fc>, line 1)",
     "output_type": "error",
     "traceback": [
      "\u001b[0;36m  File \u001b[0;32m\"<ipython-input-4-83bcdcc5e1fc>\"\u001b[0;36m, line \u001b[0;32m1\u001b[0m\n\u001b[0;31m    chaine = 'un caractère ou une chiane de caractère\u001b[0m\n\u001b[0m                                                     ^\u001b[0m\n\u001b[0;31mSyntaxError\u001b[0m\u001b[0;31m:\u001b[0m EOL while scanning string literal\n"
     ]
    }
   ],
   "source": [
    "chaine = 'un caractère ou une chiane de caractère\n",
    "type(chaine)"
   ]
  },
  {
   "cell_type": "code",
   "execution_count": null,
   "metadata": {},
   "outputs": [],
   "source": [
    "print(a)"
   ]
  },
  {
   "cell_type": "code",
   "execution_count": null,
   "metadata": {
    "jupyter": {
     "source_hidden": true
    }
   },
   "outputs": [],
   "source": [
    "print(a)"
   ]
  },
  {
   "cell_type": "code",
   "execution_count": null,
   "metadata": {
    "jupyter": {
     "source_hidden": true
    }
   },
   "outputs": [],
   "source": [
    "for i in range(10):\n",
    "    print(a + i)"
   ]
  },
  {
   "cell_type": "markdown",
   "metadata": {
    "jupyter": {
     "source_hidden": true
    }
   },
   "source": [
    "La valeur moyenne en ligne ${{\\frac {1}{T}}\\int _{a}^{a+T}f(t)\\mathrm {d} t}$"
   ]
  },
  {
   "cell_type": "markdown",
   "metadata": {
    "jupyter": {
     "source_hidden": true
    }
   },
   "source": [
    "La valeur moyenne en ligne ${{\\frac {1}{T}}\\int _{a}^{a+T}f(t)\\mathrm {d} t}$"
   ]
  },
  {
   "cell_type": "markdown",
   "metadata": {},
   "source": [
    "Le calcul de la valeur moyenne affichée dans la page $${{\\frac {1}{T}}\\int _{a}^{a+T}f(t)\\mathrm {d} t}$$"
   ]
  },
  {
   "cell_type": "markdown",
   "metadata": {
    "jupyter": {
     "source_hidden": true
    }
   },
   "source": [
    "La valeur moyenne affichée dans la page $${{\\frac {1}{T}}\\int _{a}^{a+T}f(t)\\mathrm {d} t}$$"
   ]
  },
  {
   "cell_type": "markdown",
   "metadata": {},
   "source": [
    "# Un exemple de cellule brute ci-dessous"
   ]
  },
  {
   "cell_type": "raw",
   "metadata": {
    "jupyter": {
     "source_hidden": true
    }
   },
   "source": [
    "<!DOCTYPE html>\n",
    "<html lang = \"fr\">\n",
    "<head>\n",
    "<meta charset = \"utf-8\">\n",
    "<title>page web exemple</title>\n",
    "</head>\n",
    "<body>\n",
    "<p>Cellule RAW de code HTML</p>\n",
    "</body>\n",
    "</html>"
   ]
  },
  {
   "cell_type": "code",
   "execution_count": null,
   "metadata": {
    "jupyter": {
     "source_hidden": true
    }
   },
   "outputs": [],
   "source": [
    "#install numpy et matplotlib\n",
    "import sys\n",
    "!{sys.executable} -m pip install numpy\n",
    "!{sys.executable} -m pip install matplotlib\n"
   ]
  },
  {
   "cell_type": "code",
   "execution_count": null,
   "metadata": {
    "jupyter": {
     "source_hidden": true
    }
   },
   "outputs": [],
   "source": [
    "from matplotlib import pyplot as plt\n",
    "import numpy as np\n",
    "x = np.linspace(-2, 2, 100)\n",
    "plt.plot(x, x**2,color=\"red\")\n",
    "plt.grid()\n",
    "plt.show()\n",
    "plt.close()\n"
   ]
  },
  {
   "cell_type": "markdown",
   "metadata": {},
   "source": [
    "<p>Ceci est un paragraphe de texte codé en HTML.</p>"
   ]
  },
  {
   "cell_type": "markdown",
   "metadata": {},
   "source": [
    "<p> et maintenant un tableau en HTML</p>\n",
    "<table border=\"1\">\n",
    "<caption> Voici le titre du tableau </caption>\n",
    "<tr>\n",
    "<th> Titre A1 </th>\n",
    "<th> Titre A2 </th>\n",
    "<th> Titre A3 </th>\n",
    "<th> Titre A4 </th>\n",
    "</tr>\n",
    "<tr>\n",
    "<th> Titre B1 </th>\n",
    "<td> Valeur B2 </td>\n",
    "<td> Valeur B3 </td>\n",
    "<td> Valeur B4 </td>\n",
    "</tr>\n",
    "</table> "
   ]
  },
  {
   "cell_type": "markdown",
   "metadata": {},
   "source": [
    "<table>\n",
    "</table>"
   ]
  },
  {
   "cell_type": "markdown",
   "metadata": {},
   "source": [
    "|| Lille |Arras|Amiens|\n",
    "|-:|:-:|:-:|:-:|\n",
    "|Anglais|Oui|Oui|Oui|\n",
    "|Chinois|Non|Oui|Non|\n",
    "|Allemand|Oui|Oui|Oui|\n",
    "|Russe|Non|Non|Oui|"
   ]
  },
  {
   "cell_type": "markdown",
   "metadata": {},
   "source": [
    "En Markdown\n",
    "* une liste\n",
    "    * niveau 2\n",
    "        * niveau3"
   ]
  },
  {
   "cell_type": "code",
   "execution_count": null,
   "metadata": {},
   "outputs": [],
   "source": []
  }
 ],
 "metadata": {
  "kernelspec": {
   "display_name": "Python 3",
   "language": "python",
   "name": "python3"
  },
  "language_info": {
   "codemirror_mode": {
    "name": "ipython",
    "version": 3
   },
   "file_extension": ".py",
   "mimetype": "text/x-python",
   "name": "python",
   "nbconvert_exporter": "python",
   "pygments_lexer": "ipython3",
   "version": "3.7.6"
  }
 },
 "nbformat": 4,
 "nbformat_minor": 4
}
