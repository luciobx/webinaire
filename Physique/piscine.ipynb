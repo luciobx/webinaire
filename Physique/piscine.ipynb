{
 "cells": [
  {
   "cell_type": "markdown",
   "metadata": {},
   "source": [
    "<center>\n",
    "    \n",
    "# La piscine à vague...\n",
    "\n",
    "</center>"
   ]
  },
  {
   "cell_type": "markdown",
   "metadata": {},
   "source": [
    "<div class = \"alert alert-danger\"> \n",
    "\n",
    "<img src=\"piscine.png\" align=\"right\" width=\"320\" height=\"150\"> \n",
    "\n",
    "# Objectif de l'activité\n",
    "\n",
    "**Vous travaillez dans une société sppécialisée dans les projets de parc à vagues.\n",
    "Vous devez simuler numériquement la propagation des vagues pour montrer aux investisseurs du projet les différentes vagues qu'il sera possible de produire dans la piscine à vague.**\n",
    "\n",
    "\n",
    "\n",
    "Les sociétés spécialisées dans la construction de piscine génèrent des vagues contrôlées par un logiciel sont les fonctionnalités sont entièrement personnalisables : hauteur des vagues, fréquence, puissance…\n",
    "\n",
    "( $\\spadesuit$ ) : Pour en savoir plus sur [les piscines à vagues](http://www.youtube.com/watch?v=OCt1NvDFOGo) ou éxécuter la cellule de code ci-dessous.\n",
    "\n",
    "\n",
    "</div>"
   ]
  },
  {
   "cell_type": "code",
   "execution_count": 1,
   "metadata": {},
   "outputs": [
    {
     "data": {
      "text/html": [
       "<center>\n",
       "<video width=\"320\" height=\"240\" controls>\n",
       "  <source src=\"piscine.mp4\" type=\"video/mp4\">\n",
       "</video>\n",
       "</center>\n"
      ],
      "text/plain": [
       "<IPython.core.display.HTML object>"
      ]
     },
     "metadata": {},
     "output_type": "display_data"
    }
   ],
   "source": [
    "%%HTML\n",
    "<center>\n",
    "<video width=\"320\" height=\"240\" controls>\n",
    "  <source src=\"piscine.mp4\" type=\"video/mp4\">\n",
    "</video>\n",
    "</center>"
   ]
  },
  {
   "cell_type": "markdown",
   "metadata": {},
   "source": [
    "# Documents"
   ]
  },
  {
   "cell_type": "markdown",
   "metadata": {},
   "source": [
    "<div class=\"alert alert-warning\">\n",
    "\n",
    "## 1. Wave Frequency\n",
    "\n",
    "<img src=\"simul.png\" align=\"right\" width=\"200\" height=\"150\" margin=\"50px\"> \n",
    "\n",
    "2 Waves every 8 Seconds\n",
    "\n",
    "  The program is flexible and offers a variety of wave frequency settings to match the number of surfers in the water at any given time, even allowing pauses for surfers to return to the take-off zone and regain their breath before catching their next wave. With the frequency on the highest setting, two waves are created every 8 seconds in a staggered formation on either side of the pie\n",
    "\n",
    "<BR>\n",
    "<div align=\"right\">\n",
    "     WaveGarden Cover ® \n",
    "</div>\n",
    "    \n",
    "</div>\n",
    "\n"
   ]
  },
  {
   "cell_type": "markdown",
   "metadata": {},
   "source": [
    "<div class=\"alert alert-warning\">\n",
    "    \n",
    "## 2. Signal Sinusoïdal\n",
    "\n",
    "L'évolution sinusoïdale au cours du temps $s(t)$ d'un point du milieu est décrite par la relation : \n",
    "\n",
    "<center>\n",
    "    $s(t) = A \\cdot \\sin ( \\frac{2\\pi}{T} \\cdot t + \\varphi ) $\n",
    "</center>\n",
    "\n",
    "avec  :\n",
    " \n",
    " - $A$ : Amplitude maximale de l'onde\n",
    " - $T$ : Période de l'onde en seconde\n",
    " - $\\varphi$ : Phase à l'origine en radians.\n",
    "    \n",
    "    \n",
    "</div>\n"
   ]
  },
  {
   "cell_type": "markdown",
   "metadata": {},
   "source": [
    "# Travail à réaliser.\n",
    "## 1. Représentation de l'onde en fonction du temps."
   ]
  },
  {
   "cell_type": "markdown",
   "metadata": {},
   "source": [
    "<div class = \"alert alert-success\"> \n",
    "    \n",
    "<img src=\"chemix.png\" align=\"right\" width=\"300\" height=\"150\" margin=\"50px\">     \n",
    " \n",
    "Le dispositif ci-contre représente un simulateur de piscine à vagues. Un baigneur est simulé par un bouchon en liége.\n",
    " \n",
    "**Pour que la sensation des vagues soit optimale il faut que le baigneur se retrouve au sommet environ 2 fois toutes les 8 secondes.**\n",
    " \n",
    " On simule donc le mouvement du bouchon par une vague sinusoïdale à l'aide de l'expression donnée ci-dessus. \n",
    "\n",
    "- Le mouvement désiré du bouchon au cours du temps est représenté par la courbe rouge représentée par le code ci-dessous.\n",
    "- Pour l'instant le dispositif de création de vague est réglé différement et on obtient la courbe bleue.\n",
    " \n",
    " **Exécutez le code ci-dessous et répondez aux questions**\n",
    "\n",
    "</div>"
   ]
  },
  {
   "cell_type": "markdown",
   "metadata": {},
   "source": [
    "# On commence par installer les modules nécessaires dans Python"
   ]
  },
  {
   "cell_type": "code",
   "execution_count": 2,
   "metadata": {
    "collapsed": true,
    "jupyter": {
     "outputs_hidden": true,
     "source_hidden": true
    }
   },
   "outputs": [
    {
     "name": "stdout",
     "output_type": "stream",
     "text": [
      "Requirement already satisfied: matplotlib in /opt/conda/lib/python3.7/site-packages (3.2.1)\n",
      "Requirement already satisfied: python-dateutil>=2.1 in /opt/conda/lib/python3.7/site-packages (from matplotlib) (2.8.1)\n",
      "Requirement already satisfied: kiwisolver>=1.0.1 in /opt/conda/lib/python3.7/site-packages (from matplotlib) (1.2.0)\n",
      "Requirement already satisfied: numpy>=1.11 in /opt/conda/lib/python3.7/site-packages (from matplotlib) (1.18.4)\n",
      "Requirement already satisfied: pyparsing!=2.0.4,!=2.1.2,!=2.1.6,>=2.0.1 in /opt/conda/lib/python3.7/site-packages (from matplotlib) (2.4.7)\n",
      "Requirement already satisfied: cycler>=0.10 in /opt/conda/lib/python3.7/site-packages (from matplotlib) (0.10.0)\n",
      "Requirement already satisfied: six>=1.5 in /opt/conda/lib/python3.7/site-packages (from python-dateutil>=2.1->matplotlib) (1.14.0)\n"
     ]
    }
   ],
   "source": [
    "import sys\n",
    "!{sys.executable} -m pip install matplotlib"
   ]
  },
  {
   "cell_type": "code",
   "execution_count": null,
   "metadata": {},
   "outputs": [],
   "source": [
    "!{sys.executable} -m pip install ipywidgets"
   ]
  },
  {
   "cell_type": "markdown",
   "metadata": {},
   "source": [
    "# Ajout d'une fonctionnalité Jupyter\n",
    "\n",
    "On commencera par voir \n",
    "Building jupyterlab assets (build:prod:minimize)\n",
    "\\\n",
    "\n",
    "Puis après quelques minutes\n",
    "\n"
   ]
  },
  {
   "cell_type": "code",
   "execution_count": 3,
   "metadata": {},
   "outputs": [
    {
     "name": "stdout",
     "output_type": "stream",
     "text": []
    },
    {
     "name": "stdout",
     "output_type": "stream",
     "text": [
      "Building jupyterlab assets (build:prod:minimize)\n"
     ]
    }
   ],
   "source": [
    "import sys\n",
    "!{sys.executable} -m jupyter labextension install @jupyter-widgets/jupyterlab-manager"
   ]
  },
  {
   "cell_type": "markdown",
   "metadata": {},
   "source": [
    "# Rafraichir la page du navigateur\n",
    "\n",
    "Choisir Quitter la page dans le menu contextuel"
   ]
  },
  {
   "cell_type": "code",
   "execution_count": 4,
   "metadata": {},
   "outputs": [
    {
     "ename": "ModuleNotFoundError",
     "evalue": "No module named 'ipywidgets'",
     "output_type": "error",
     "traceback": [
      "\u001b[0;31m---------------------------------------------------------------------------\u001b[0m",
      "\u001b[0;31mModuleNotFoundError\u001b[0m                       Traceback (most recent call last)",
      "\u001b[0;32m<ipython-input-4-fbcd41e66303>\u001b[0m in \u001b[0;36m<module>\u001b[0;34m\u001b[0m\n\u001b[1;32m      1\u001b[0m \u001b[0;32mfrom\u001b[0m \u001b[0mmatplotlib\u001b[0m \u001b[0;32mimport\u001b[0m \u001b[0mpyplot\u001b[0m \u001b[0;32mas\u001b[0m \u001b[0mplt\u001b[0m\u001b[0;34m\u001b[0m\u001b[0;34m\u001b[0m\u001b[0m\n\u001b[1;32m      2\u001b[0m \u001b[0;32mfrom\u001b[0m \u001b[0mmath\u001b[0m \u001b[0;32mimport\u001b[0m \u001b[0;34m*\u001b[0m\u001b[0;34m\u001b[0m\u001b[0;34m\u001b[0m\u001b[0m\n\u001b[0;32m----> 3\u001b[0;31m \u001b[0;32mimport\u001b[0m \u001b[0mipywidgets\u001b[0m \u001b[0;32mas\u001b[0m \u001b[0mwidgets\u001b[0m\u001b[0;34m\u001b[0m\u001b[0;34m\u001b[0m\u001b[0m\n\u001b[0m\u001b[1;32m      4\u001b[0m \u001b[0;34m\u001b[0m\u001b[0m\n\u001b[1;32m      5\u001b[0m \u001b[0mtmax\u001b[0m \u001b[0;34m=\u001b[0m \u001b[0;36m10\u001b[0m     \u001b[0;31m# Durée maximale en s\u001b[0m\u001b[0;34m\u001b[0m\u001b[0;34m\u001b[0m\u001b[0m\n",
      "\u001b[0;31mModuleNotFoundError\u001b[0m: No module named 'ipywidgets'"
     ]
    }
   ],
   "source": [
    "from matplotlib import pyplot as plt\n",
    "from math import *\n",
    "import ipywidgets as widgets\n",
    "\n",
    "tmax = 10     # Durée maximale en s\n",
    "t = [0.04 * i for i in range(250)]\n",
    "\n",
    "def onde(A,T,phi) :\n",
    "    y = [1.2 * sin(i) for i in t]\n",
    "    y1=[A * sin ((2*pi/T)*i + phi) for i in t]\n",
    "    plt.title('Signal sinusoïdal') \n",
    "    plt.xlabel('$t$ (en s)')        \n",
    "    plt.ylabel('$y$ (en m)')        \n",
    "    plt.xlim(0,tmax)                \n",
    "    plt.ylim(-3,+3)          \n",
    "    plt.grid()                      \n",
    "    plt.plot(t,y,'r')  \n",
    "    plt.plot(t,y1,'b')\n",
    "\n",
    "widgets.interact(onde,A=(0,4,0.1),T=(0.1,10,0.1),phi=(-4,+3,0.1))"
   ]
  },
  {
   "cell_type": "markdown",
   "metadata": {},
   "source": [
    "# Si tout c'est bine passé vous devez avoir accès aux curseurs"
   ]
  },
  {
   "cell_type": "markdown",
   "metadata": {},
   "source": [
    "<div class = \"alert alert-info\">\n",
    "    \n",
    "**Q1 :** Mesurer la période de la courbe rouge en seconde, puis vérifier en modifiant la valeur de la période `T` de la courbe bleue avec le curseur que votre valeur est compatible.\n",
    "\n",
    "</div>"
   ]
  },
  {
   "cell_type": "markdown",
   "metadata": {},
   "source": [
    "Votre réponse ici"
   ]
  },
  {
   "cell_type": "markdown",
   "metadata": {},
   "source": [
    "<div class = \"alert alert-info\">\n",
    "    \n",
    "**Q2 :** Quelle est l'amplitude de l'onde sur la courbe rouge ? Vérifier en modifiant la valeur de l'amplitude `A` de la courbe bleue avec le curseur \n",
    "\n",
    "</div>"
   ]
  },
  {
   "cell_type": "markdown",
   "metadata": {},
   "source": [
    "Votre réponse ici"
   ]
  },
  {
   "cell_type": "markdown",
   "metadata": {},
   "source": [
    "<div class = \"alert alert-info\">\n",
    "\n",
    "**Q3 :** Quelle est la phase à l'origine de la courbe rouge ?  Vérifier en modifiant la valeur de la phase à l'origine `phi` de la courbe bleue avec le curseur\n",
    "\n",
    "</div>"
   ]
  },
  {
   "cell_type": "markdown",
   "metadata": {},
   "source": [
    "Votre réponse ici"
   ]
  },
  {
   "cell_type": "markdown",
   "metadata": {},
   "source": [
    "## Simuler la propagation des vagues"
   ]
  },
  {
   "cell_type": "markdown",
   "metadata": {},
   "source": [
    "<div class=\"alert alert-warning\">\n",
    "\n",
    "## Célérité des vagues\n",
    "\n",
    "La célérité $c$ correspond à la vitesse de propagation d’une crête d’une vague. \n",
    "Dans le cas des ondes à la surface d'une piscine où la profondeur n'est pas trop grande, on a **$ c = \\sqrt{g \\cdot h} $** .\n",
    "\n",
    "La célérité correspond à la racine du produit de g par h, avec $g$  la valeur du champ de pesanteur (on prendgra $g=9,8 m\\cdot s^{-2}$), et $h$ est la profondeur de la piscine lorsque l'eau est au repos.\n",
    "\n",
    "( $\\spadesuit$) Remarque : Ainsi lorsque vous êtes à la plage, à l'approche du bord, lorsque h diminuera, la célérité des vagues diminuera aussi.\n",
    "\n",
    "( $\\heartsuit$ ) Rappel :La célérité est définie par  $ c=\\frac{\\lambda}{T} $\n",
    "</div>"
   ]
  },
  {
   "cell_type": "markdown",
   "metadata": {},
   "source": [
    "<div class=\"alert alert-warning\">\n",
    "    \n",
    "## Equation de propagation d'une onde le long d'une corde.\n",
    "<img src=\"corde.png\" align=\"right\" width=\"230\" height=\"150\"> \n",
    "\n",
    "Lors de la propagation d'une onde sinusoïdale le long d'une corde, chaque point a une amplitude $y$ qui dépend de deux paramètres :\n",
    "\n",
    "- sa position en abcisse $x$\n",
    "- le temps $t$\n",
    "\n",
    "L'amplitude $y$ d'un point $M$ d'abscisse $x$ à un instant $t$ est donc une fonction de deux variables dont l'équation peut s'écrire :\n",
    "\n",
    "<div align=\"center\">\n",
    "\n",
    "## **$y(x,t) = A \\cdot \\sin(\\frac{2 \\cdot \\pi}{T} \\cdot (t - \\frac{x}{v}))$**\n",
    "\n",
    "</div>\n",
    "</div>"
   ]
  },
  {
   "cell_type": "markdown",
   "metadata": {},
   "source": [
    "<div class=\"alert alert-warning\">\n",
    "\n",
    "## Le simulateur de vagues.\n",
    "\n",
    "Le script ci-dessous permet de simuler la propagation des vagues en se basant sur l'équation de propagation. Le point bleu représente un baigneur dans la piscine.\n",
    "\n",
    "Avec cette portion de code, on peut :\n",
    "\n",
    "- faire varier l'amplitude `A` des vagues (en m).\n",
    "- faire varier la profondeur de la piscine `h` (en m).\n",
    "- faire la periode `T` des vagues ( en seconde).\n",
    "- représenter l'aspect de la piscine à un instant `date` (en seconde).\n",
    "\n",
    "</div>"
   ]
  },
  {
   "cell_type": "code",
   "execution_count": null,
   "metadata": {},
   "outputs": [],
   "source": [
    "def vague(A,h,T,date) :\n",
    "    v=sqrt(9.81*h)\n",
    "    for t in range(date): \n",
    "        x_max = int(v*t) #on calcule l’abscisse de la propagation\n",
    "        y = [0 for i in range(1200)] #on initialise la liste des ordonnées\n",
    "        x = [i for i in range(1200)] #pareil pour les abscisses\n",
    "        for xi in range(0,x_max):\n",
    "            y[xi] = (A*sin(2*pi/T*(t-x[xi]/v)))\n",
    "            \n",
    "    fig, ax = plt.subplots(figsize=(5, 4))\n",
    "    x1 = x[50]\n",
    "    y1 = y[50]\n",
    "    ax.set_xlim(-1, 100)\n",
    "    ax.set_ylim(-2, 2)\n",
    "    ax.grid()\n",
    "    ax.plot(x, y, 'r-')\n",
    "    ax.plot(x1,y1,'bo')\n",
    "\n",
    "widgets.interact(vague,A=(0,2,0.1),h=(1,8,0.1),T=(1,10,0.1),date=widgets.IntSlider(min=1, max=30, step=1, value=1))"
   ]
  },
  {
   "cell_type": "markdown",
   "metadata": {},
   "source": [
    "<div class = \"alert alert-info\">\n",
    "    \n",
    "**Q4 :** Avant de procéder à des modifications des réglages, déterminer la valeur de la longueur d'onde $\\lambda$ en m. Expliciter votre calcul.    \n",
    "    \n",
    "( $\\spadesuit$ ) : Pour reinitialiser la cellule de code ci-dessus à ses réglages initiaux il suffit de l'éxécuter à nouveau.\n",
    "</div>"
   ]
  },
  {
   "cell_type": "markdown",
   "metadata": {},
   "source": [
    "Votre réponse ici."
   ]
  },
  {
   "cell_type": "markdown",
   "metadata": {},
   "source": [
    "<div class = \"alert alert-info\">\n",
    "    \n",
    "**Q5 :** Avant de procéder à des modifications des réglages,calculer à quelle date le baigneur se retrouve en haut de la vague pour la première fois ?\n",
    "\n",
    "</div>"
   ]
  },
  {
   "cell_type": "markdown",
   "metadata": {},
   "source": [
    "Votre réponse ici."
   ]
  },
  {
   "cell_type": "markdown",
   "metadata": {},
   "source": [
    "<div class = \"alert alert-info\">\n",
    "    \n",
    "**Q6 :** Avant de procéder à des modifications des réglages, quelle durée s'écoulera entre les deux instants successifs pour lesquels le baigneur se retrouvera au sommet d'une vague.\n",
    "\n",
    "</div>"
   ]
  },
  {
   "cell_type": "markdown",
   "metadata": {},
   "source": [
    "Votre réponse ici.\n"
   ]
  },
  {
   "cell_type": "markdown",
   "metadata": {},
   "source": [
    "<div class = \"alert alert-danger\"> \n",
    "    \n",
    "Vérifier la validité de vos réponses en jouant sur le curseur `date` qui représente l'état de la piscine à un instant donné.\n",
    "\n",
    "</div>"
   ]
  },
  {
   "cell_type": "markdown",
   "metadata": {},
   "source": [
    "<div class = \"alert alert-info\">   \n",
    "    \n",
    "Votre piscine fait 100m de longueur, la profondeur n'est pas encore fixée. Vous voulez qu’il y ait toujours environ 3 vagues présentes dans votre piscine. Le baigneur doit être soulevé d'environ 2 m lorqsu'il se trouve au sommet de la vague, et évidemmment il ne doit pas toucher le fond de la piscine lorsqu'il est au creux de la vague.\n",
    "\n",
    "**Q7 :** Donner les caractéristiques de la piscine ( `A`, `T` et `h`) qui permettent de répondre au cahier des charges ci-dessus\n",
    "\n",
    "</div>"
   ]
  },
  {
   "cell_type": "markdown",
   "metadata": {},
   "source": [
    "Votre réposne ici"
   ]
  },
  {
   "cell_type": "markdown",
   "metadata": {},
   "source": [
    "<div class = \"alert alert-info\">   \n",
    "    \n",
    "**Q8 :** Donner la valeur de la longueur d'onde $\\lambda$ correspondant à la vague crée dans votre piscine.\n",
    "\n",
    "</div>"
   ]
  },
  {
   "cell_type": "markdown",
   "metadata": {},
   "source": [
    "Votre réponse ici."
   ]
  },
  {
   "cell_type": "markdown",
   "metadata": {},
   "source": [
    "## Simuler le mouvement du baigneur."
   ]
  },
  {
   "cell_type": "markdown",
   "metadata": {},
   "source": [
    "<div class = \"alert alert-info\"> \n",
    "                                   \n",
    "On veut maintenant simuler le mouvement du baigneur en fonction du temps pour vérifier combien de fois il atteint le sommet de la vague par seconde.\n",
    "\n",
    "**Q9 :** Complétez le script ci-dessous en remplaçant les pointillés du script en considérant que le baigneur est au sommet de la vague à l'instant initial.\n",
    "\n",
    "( $\\spadesuit$ ) : le module math de python permet d'obtenir la valeur de pi en tapant simplement `pi`\n",
    "</div>\n"
   ]
  },
  {
   "cell_type": "code",
   "execution_count": null,
   "metadata": {},
   "outputs": [],
   "source": [
    "dates = [0.05 * i for i in range(100)]\n",
    "A = 2  # Amplitude de la vague (remplacer valeur par pointillé)\n",
    "T = 6.50  # Période de la vague. (remplacer valeur par pointillé)\n",
    "phi = pi/2  # Phase à l'origine. (remplacer valeur par pointillé)\n",
    "\n",
    "yb = []\n",
    "\n",
    "for t in dates :\n",
    "    y = A * sin ( A *(2*pi)/T * t +phi )\n",
    "    yb.append(y)\n",
    "    \n",
    "plt.plot(dates,yb)\n",
    "    "
   ]
  },
  {
   "cell_type": "markdown",
   "metadata": {},
   "source": [
    "<div class = \"alert alert-info\"> \n",
    "  \n",
    "**Q10 :** Combien de fois le baigneur atteindra-t-il le sommet de la vague par seconde ?\n",
    "\n",
    "</div>"
   ]
  },
  {
   "cell_type": "markdown",
   "metadata": {},
   "source": [
    "Votre réponse ici"
   ]
  },
  {
   "cell_type": "markdown",
   "metadata": {},
   "source": [
    "<div class = \"alert alert-info\"> \n",
    "  \n",
    "**Q10 :** Combien de fois le baigneur atteindra-t-il le creux de la vague par seconde ?\n",
    "\n",
    "</div>"
   ]
  },
  {
   "cell_type": "markdown",
   "metadata": {},
   "source": [
    "Votre réponse ici."
   ]
  }
 ],
 "metadata": {
  "kernelspec": {
   "display_name": "Python 3",
   "language": "python",
   "name": "python3"
  },
  "language_info": {
   "codemirror_mode": {
    "name": "ipython",
    "version": 3
   },
   "file_extension": ".py",
   "mimetype": "text/x-python",
   "name": "python",
   "nbconvert_exporter": "python",
   "pygments_lexer": "ipython3",
   "version": "3.7.6"
  },
  "latex_envs": {
   "LaTeX_envs_menu_present": true,
   "autoclose": false,
   "autocomplete": true,
   "bibliofile": "biblio.bib",
   "cite_by": "apalike",
   "current_citInitial": 1,
   "eqLabelWithNumbers": true,
   "eqNumInitial": 1,
   "hotkeys": {
    "equation": "Ctrl-E",
    "itemize": "Ctrl-I"
   },
   "labels_anchors": false,
   "latex_user_defs": false,
   "report_style_numbering": false,
   "user_envs_cfg": false
  }
 },
 "nbformat": 4,
 "nbformat_minor": 4
}
